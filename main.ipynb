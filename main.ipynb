{
 "cells": [
  {
   "cell_type": "code",
   "execution_count": 4,
   "id": "cd6981bb",
   "metadata": {},
   "outputs": [
    {
     "data": {
      "text/plain": [
       "device(type='cuda')"
      ]
     },
     "execution_count": 4,
     "metadata": {},
     "output_type": "execute_result"
    }
   ],
   "source": [
    "import torch\n",
    "import pandas as pd\n",
    "import os\n",
    "import cv2\n",
    "import numpy as np\n",
    "import pandas as pd\n",
    "from torch.utils.data import Dataset\n",
    "import sklearn\n",
    "from sklearn.model_selection import train_test_split\n",
    "import torch\n",
    "from torch.utils.data import Dataset\n",
    "from torchvision.transforms import v2\n",
    "from PIL import Image\n",
    "import pandas as pd\n",
    "import os\n",
    "import numpy as np\n",
    "from tqdm import tqdm\n",
    "\n",
    "\n",
    "device = torch.device(torch.accelerator.current_accelerator() if torch.accelerator.is_available() else 'cpu')\n",
    "\n",
    "device"
   ]
  },
  {
   "cell_type": "code",
   "execution_count": 5,
   "id": "4d11b926",
   "metadata": {},
   "outputs": [
    {
     "name": "stdout",
     "output_type": "stream",
     "text": [
      "11.8\n",
      "90100\n"
     ]
    }
   ],
   "source": [
    "print(torch.version.cuda)\n",
    "print(torch.backends.cudnn.version())"
   ]
  },
  {
   "cell_type": "code",
   "execution_count": 6,
   "id": "b886ea2d",
   "metadata": {},
   "outputs": [
    {
     "name": "stdout",
     "output_type": "stream",
     "text": [
      "Resized image directory is already populated — skipping resize.\n"
     ]
    }
   ],
   "source": [
    "# === CONFIG ===\n",
    "input_dir = r\"C:airbus-ship-detection\\train_v2\"\n",
    "output_dir = r\"C:airbus-ship-detection\\train_v2_resized\"\n",
    "target_size = (256, 256)\n",
    "\n",
    "# === Check if resizing is needed ===\n",
    "if not os.path.exists(output_dir) or len(os.listdir(output_dir)) == 0:\n",
    "    print(\"Resizing images to 256x256...\")\n",
    "\n",
    "    os.makedirs(output_dir, exist_ok=True)\n",
    "    image_files = [f for f in os.listdir(input_dir) if f.endswith(\".jpg\")]\n",
    "\n",
    "    for fname in tqdm(image_files, desc=\"Resizing\"):\n",
    "        try:\n",
    "            img = Image.open(os.path.join(input_dir, fname)).convert(\"RGB\")\n",
    "            img_resized = img.resize(target_size, Image.BILINEAR)\n",
    "            img_resized.save(os.path.join(output_dir, fname))\n",
    "        except Exception as e:\n",
    "            print(f\"Failed to resize {fname}: {e}\")\n",
    "else:\n",
    "    print(\"Resized image directory is already po\" \\\n",
    "    \"pulated — skipping resize.\")\n"
   ]
  },
  {
   "cell_type": "code",
   "execution_count": 15,
   "id": "42940006",
   "metadata": {},
   "outputs": [
    {
     "name": "stderr",
     "output_type": "stream",
     "text": [
      "Generating masks: 192556it [09:03, 354.47it/s]\n"
     ]
    }
   ],
   "source": [
    "# === CONFIGURATION ===\n",
    "csv_path = r\"C:airbus-ship-detection\\train_ship_segmentations_v2.csv\"\n",
    "mask_output_dir = r\"C:airbus-ship-detection\\train_masks\"\n",
    "target_size = (768, 768)\n",
    "os.makedirs(mask_output_dir, exist_ok=True)\n",
    "\n",
    "# === RLE Decode Function ===\n",
    "def rle_decode(mask_rle, shape=(768, 768)):\n",
    "    s = list(map(int, mask_rle.split()))\n",
    "    starts, lengths = [np.asarray(x, dtype=int) for x in (s[::2], s[1::2])]\n",
    "    starts -= 1\n",
    "    ends = starts + lengths\n",
    "    img = np.zeros(shape[0] * shape[1], dtype=np.uint8)\n",
    "    for lo, hi in zip(starts, ends):\n",
    "        img[lo:hi] = 1\n",
    "    return img.reshape(shape).T\n",
    "\n",
    "if os.path.exists(mask_output_dir) and len(os.listdir(output_dir)) != 0:\n",
    "\n",
    "    # === Load CSV and group RLEs by ImageId ===\n",
    "    df = pd.read_csv(csv_path)\n",
    "    df['HasShip'] = df['EncodedPixels'].notnull()\n",
    "    grouped = df.groupby('ImageId')['EncodedPixels'].apply(list)\n",
    "\n",
    "    # === Process Each Image ===\n",
    "    for image_id, rles in tqdm(grouped.items(), desc=\"Generating masks\"):\n",
    "        out_path = os.path.join(mask_output_dir, image_id.replace(\".jpg\", \".png\"))\n",
    "\n",
    "        if os.path.exists(out_path):\n",
    "            continue  # skip if already processed\n",
    "\n",
    "        # Combine all masks (if any)\n",
    "        mask = np.zeros((768, 768), dtype=np.uint8)\n",
    "        for rle in rles:\n",
    "            if isinstance(rle, str):\n",
    "                mask += rle_decode(rle)\n",
    "        mask = np.clip(mask, 0, 1) * 255  # binary to uint8 image\n",
    "\n",
    "        # Resize mask to 256×256\n",
    "        mask_img = Image.fromarray(mask.astype(np.uint8))\n",
    "        mask_img = mask_img.resize(target_size, resample=Image.NEAREST)\n",
    "        mask_img.save(out_path)\n",
    "else:\n",
    "    print(\"Masks are already generated and saved in the specified directory.\")"
   ]
  },
  {
   "cell_type": "code",
   "execution_count": 8,
   "id": "916e0412",
   "metadata": {},
   "outputs": [
    {
     "data": {
      "text/plain": [
       "'#check if the resized images are of the correct size\\ndef check_image_sizes(directory, target_size=(256, 256)):\\n    for fname in os.listdir(directory):\\n        if fname.endswith(\".jpg\"):\\n            img_path = os.path.join(directory, fname)\\n            img = Image.open(img_path)\\n            if img.size != target_size:\\n                print(f\"Image {fname} is not of size {target_size}. Found size: {img.size}\")\\n            else:\\n                print(f\"Image {fname} is of correct size: {img.size}\")\\n\\ncheck_image_sizes(output_dir, target_size)'"
      ]
     },
     "execution_count": 8,
     "metadata": {},
     "output_type": "execute_result"
    }
   ],
   "source": [
    "'''#check if the resized images are of the correct size\n",
    "def check_image_sizes(directory, target_size=(256, 256)):\n",
    "    for fname in os.listdir(directory):\n",
    "        if fname.endswith(\".jpg\"):\n",
    "            img_path = os.path.join(directory, fname)\n",
    "            img = Image.open(img_path)\n",
    "            if img.size != target_size:\n",
    "                print(f\"Image {fname} is not of size {target_size}. Found size: {img.size}\")\n",
    "            else:\n",
    "                print(f\"Image {fname} is of correct size: {img.size}\")\n",
    "\n",
    "check_image_sizes(output_dir, target_size)'''"
   ]
  },
  {
   "cell_type": "code",
   "execution_count": 9,
   "id": "114c468e",
   "metadata": {},
   "outputs": [
    {
     "name": "stdout",
     "output_type": "stream",
     "text": [
      "Ship Count Distribution (Number of ships per image):\n",
      "0 ships: 150000 images\n",
      "1 ships: 27104 images\n",
      "2 ships: 7674 images\n",
      "3 ships: 2954 images\n",
      "4 ships: 1622 images\n",
      "5 ships: 925 images\n",
      "6 ships: 657 images\n",
      "7 ships: 406 images\n",
      "8 ships: 318 images\n",
      "9 ships: 243 images\n",
      "10 ships: 168 images\n",
      "11 ships: 144 images\n",
      "12 ships: 124 images\n",
      "13 ships: 75 images\n",
      "14 ships: 76 images\n",
      "15 ships: 66 images\n",
      "Percentage of images with ships: 22.10%\n"
     ]
    },
    {
     "data": {
      "application/vnd.microsoft.datawrangler.viewer.v0+json": {
       "columns": [
        {
         "name": "index",
         "rawType": "int64",
         "type": "integer"
        },
        {
         "name": "ImageId",
         "rawType": "object",
         "type": "string"
        },
        {
         "name": "EncodedPixels",
         "rawType": "object",
         "type": "unknown"
        },
        {
         "name": "HasShip",
         "rawType": "bool",
         "type": "boolean"
        }
       ],
       "ref": "ce089985-7d95-431d-b324-eaa7e458d2f5",
       "rows": [
        [
         "0",
         "00003e153.jpg",
         null,
         "False"
        ],
        [
         "1",
         "0001124c7.jpg",
         null,
         "False"
        ],
        [
         "2",
         "000155de5.jpg",
         "264661 17 265429 33 266197 33 266965 33 267733 33 268501 33 269269 33 270037 33 270805 33 271573 33 272341 33 273109 33 273877 33 274645 33 275413 33 276181 33 276949 33 277716 34 278484 34 279252 33 280020 33 280788 33 281556 33 282324 33 283092 33 283860 33 284628 33 285396 33 286164 33 286932 33 287700 33 288468 33 289236 33 290004 33 290772 33 291540 33 292308 33 293076 33 293844 33 294612 33 295380 33 296148 33 296916 33 297684 33 298452 33 299220 33 299988 33 300756 33 301524 33 302292 33 303060 33 303827 34 304595 34 305363 33 306131 33 306899 33 307667 33 308435 33 309203 33 309971 33 310739 33 311507 33 312275 33 313043 33 313811 33 314579 33 315347 33 316115 33 316883 33 317651 33 318419 33 319187 33 319955 33 320723 33 321491 33 322259 33 323027 33 323795 33 324563 33 325331 33 326099 33 326867 33 327635 33 328403 33 329171 33 329938 34 330706 34 331474 33 332242 33 333010 33 333778 33 334546 33 335314 33 336082 33 336850 33 337618 33 338386 33 339154 33 339922 33 340690 33 341458 33 342226 33 343003 24 343787 8",
         "True"
        ],
        [
         "3",
         "000194a2d.jpg",
         "360486 1 361252 4 362019 5 362785 8 363552 10 364321 10 365090 9 365858 10 366627 10 367396 9 368165 9 368933 10 369702 10 370471 9 371240 9 372009 9 372777 10 373546 9 374315 9 375084 7 375852 6 376621 3 377390 1",
         "True"
        ],
        [
         "4",
         "000194a2d.jpg",
         "51834 9 52602 9 53370 9 54138 9 54906 9 55674 7 56442 7 57210 7 57978 7 58746 7 59514 7 60282 7 61050 9 61818 9 62586 9 63354 9 64122 9 64890 9",
         "True"
        ],
        [
         "5",
         "000194a2d.jpg",
         "198320 10 199088 10 199856 10 200624 10 201392 10 202160 10 202928 10 203696 10 204464 10 205232 10 206000 10 206768 10 207536 10 208304 10 209072 10 209840 10 210608 10 211376 10 212144 10 212912 10 213680 10 214448 10 215216 10 215984 10 216751 10 217519 10 218287 10 219055 10 219823 10 220591 10 221359 10 222127 10 222895 10 223663 10 224431 10 225199 10 225967 10 226735 10 227503 10 228271 10 229039 10 229807 10 230575 10 231343 10 232111 10 232879 10 233647 10 234415 10",
         "True"
        ],
        [
         "6",
         "000194a2d.jpg",
         "55683 1 56451 1 57219 1 57987 1 58755 1 59523 1 60291 1",
         "True"
        ],
        [
         "7",
         "000194a2d.jpg",
         "254389 9 255157 17 255925 17 256693 17 257461 17 258229 17 258997 17 259765 17 260533 17 261301 17 262068 18 262836 17 263604 17 264372 17 265140 17 265908 17 266676 17 267444 17 268212 17 268980 17 269748 17 270516 17 271284 17 272052 17 272820 17 273588 17 274356 17 275124 17 275891 18 276659 17 277427 17 278195 17 278963 17 279731 17 280499 17 281267 17 282035 17 282803 17 283580 8",
         "True"
        ],
        [
         "8",
         "0001b1832.jpg",
         null,
         "False"
        ],
        [
         "9",
         "00021ddc3.jpg",
         "108287 1 109054 3 109821 4 110588 5 111356 5 112123 6 112890 7 113657 8 114424 9 115191 10 115958 11 116725 12 117493 12 118260 13 119027 14 119794 14 120561 14 121328 15 122095 15 122863 14 123630 14 124397 14 125164 14 125931 15 126698 15 127465 15 128232 15 129000 14 129767 14 130534 15 131301 15 132070 13 132839 11 133608 9 134378 6 135147 5 135916 3 136685 1",
         "True"
        ],
        [
         "10",
         "00021ddc3.jpg",
         "101361 1 102128 3 102896 4 103663 6 104430 9 105198 10 105209 1 105965 14 106732 14 107500 14 108267 14 109034 14 109802 14 110569 14 111336 14 112104 14 112871 14 113638 14 114406 14 115173 14 115940 14 116708 14 117475 14 118242 14 119010 14 119777 14 120544 14 121312 14 122079 14 122846 14 123614 14 124381 14 125150 12 125920 10 126689 8 127459 5 128228 4 128998 1",
         "True"
        ],
        [
         "11",
         "00021ddc3.jpg",
         "74441 3 75207 5 75975 5 76743 5 77511 5 78280 4 79048 5 79816 5 80584 5 81352 5 82120 5 82888 6 83657 5 84425 5 85193 5 85961 2",
         "True"
        ],
        [
         "12",
         "00021ddc3.jpg",
         "74444 4 75212 4 75980 4 76748 4 77517 3 78285 3 79053 4 79821 4 80589 4 81357 4 82125 4",
         "True"
        ],
        [
         "13",
         "00021ddc3.jpg",
         "150423 2 151190 3 151958 3 152726 4 153495 3 154263 3",
         "True"
        ],
        [
         "14",
         "00021ddc3.jpg",
         "139644 2 140408 6 141174 9 141942 9 142711 6 143479 2",
         "True"
        ],
        [
         "15",
         "00021ddc3.jpg",
         "75972 3 76738 5 77506 5 78274 5 79042 6 79811 5 80579 5 81347 5 82115 5 82883 5 83651 6 84420 5 85188 5 85956 2",
         "True"
        ],
        [
         "16",
         "00021ddc3.jpg",
         "86727 2 87493 4 88261 4 89030 3 89798 4 90566 4 91334 4 92103 3 92871 1",
         "True"
        ],
        [
         "17",
         "00021ddc3.jpg",
         "95225 2 95992 5 96760 7 97527 9 98294 9 99062 9 99829 9 100596 9 101364 9 102132 8 102901 6 103671 3 104440 2",
         "True"
        ],
        [
         "18",
         "0002756f7.jpg",
         "255784 2 256552 4 257319 7 258087 9 258854 12 259622 14 260389 16 261159 16 261929 16 262699 16 263469 16 264239 16 265009 14 265779 11 266549 9 267319 6 268089 4 268859 1",
         "True"
        ],
        [
         "19",
         "0002756f7.jpg",
         "248878 1 249645 4 250413 6 251180 9 251948 10 252715 13 253482 16 254250 18 255019 18 255789 18 256559 18 257329 18 258099 17 258869 15 259639 12 260409 10 261179 7 261949 5 262719 2 263488 1 264255 1",
         "True"
        ],
        [
         "20",
         "0002d0f32.jpg",
         null,
         "False"
        ],
        [
         "21",
         "000303d4d.jpg",
         null,
         "False"
        ],
        [
         "22",
         "00031f145.jpg",
         "340363 1 341129 4 341896 6 342663 7 343429 10 344196 12 344962 15 345729 16 346496 18 347262 21 348029 23 348798 23 349567 22 350335 23 351104 23 351873 23 352642 22 353410 23 354179 23 354948 21 355717 18 356486 16 357254 15 358023 12 358792 10 359561 7 360329 6 361098 4 361867 1",
         "True"
        ],
        [
         "23",
         "00052ed46.jpg",
         null,
         "False"
        ],
        [
         "24",
         "000532683.jpg",
         "458957 14 459725 14 460493 14 461261 14 462029 14 462797 14 463565 14",
         "True"
        ],
        [
         "25",
         "000532683.jpg",
         "567543 2 568309 4 569077 5 569846 4 570614 5 571382 5 572150 6 572919 5 573687 2",
         "True"
        ],
        [
         "26",
         "00053c6ba.jpg",
         "565382 3 566144 9 566909 12 567677 13 568445 13 569214 12 569982 12 570750 13 571518 13 572287 12 573055 12 573823 13 574591 13 575360 12 576128 9 576896 3",
         "True"
        ],
        [
         "27",
         "00057a50d.jpg",
         null,
         "False"
        ],
        [
         "28",
         "000592296.jpg",
         null,
         "False"
        ],
        [
         "29",
         "0005d01c8.jpg",
         "56010 1 56777 3 57544 6 58312 7 59079 9 59846 11 60613 14 61380 16 62148 17 62915 19 63682 22 64449 24 65216 26 65984 27 66751 30 67518 32 68285 34 69052 36 69820 38 70587 40 71354 42 72121 42 72888 42 73656 42 74423 42 75190 42 75957 42 76724 42 77492 42 78259 42 79026 42 79793 42 80560 42 81328 42 82095 42 82862 42 83629 42 84396 42 85164 42 85931 42 86698 42 87465 42 88232 42 89000 42 89767 42 90534 42 91301 42 92068 42 92836 42 93603 42 94370 42 95137 42 95904 42 96672 42 97439 42 98206 42 98973 42 99740 42 100508 42 101275 42 102042 42 102809 42 103576 42 104344 42 105111 42 105878 42 106645 42 107412 42 108180 42 108947 42 109714 42 110481 42 111249 41 112016 42 112783 42 113550 42 114317 42 115085 41 115852 42 116619 42 117386 42 118153 42 118921 41 119688 42 120455 42 121222 42 121989 42 122757 41 123524 42 124291 42 125058 42 125825 42 126593 42 127360 42 128127 42 128894 42 129661 42 130429 42 131196 42 131963 42 132730 42 133497 42 134265 42 135032 42 135799 42 136566 42 137333 42 138101 42 138868 42 139635 42 140402 42 141169 42 141937 42 142704 42 143471 42 144238 42 145005 42 145773 42 146540 42 147307 42 148074 42 148841 42 149609 42 150376 42 151143 42 151910 42 152677 42 153445 42 154212 42 154979 42 155746 42 156513 42 157281 42 158048 42 158815 42 159582 42 160349 42 161117 42 161884 42 162651 42 163418 42 164185 42 164953 42 165720 42 166487 42 167256 40 168025 38 168795 36 169564 34 170333 32 171102 30 171872 27 172641 26 173410 24 174179 22 174949 19 175718 17 176487 16 177256 14 178026 11 178795 9 179564 7 180333 6 181103 3 181872 1",
         "True"
        ],
        [
         "30",
         "0005d01c8.jpg",
         "365871 1 366638 3 367405 6 368173 7 368940 9 369707 12 370474 14 371242 15 372009 17 372776 20 373543 22 374310 24 375078 26 375845 28 376612 30 377379 30 378147 29 378914 30 379681 30 380448 30 381215 30 381983 30 382750 30 383517 30 384284 30 385051 31 385819 30 386586 30 387353 30 388120 31 388888 30 389655 30 390422 30 391189 31 391956 31 392724 30 393491 30 394258 31 395025 31 395793 30 396560 30 397327 31 398094 31 398861 31 399629 30 400396 31 401163 31 401930 31 402698 30 403465 31 404232 31 404999 31 405766 31 406534 31 407301 31 408068 31 408835 31 409602 32 410370 31 411137 31 411904 31 412671 32 413439 31 414206 31 414973 31 415742 30 416511 28 417281 25 418050 23 418819 22 419588 20 420358 17 421127 15 421896 14 422666 11 423435 9 424204 7 424973 6 425743 3 426512 1",
         "True"
        ],
        [
         "31",
         "0005d6d95.jpg",
         "265143 1 265910 4 266678 5 267445 7 268212 10 268980 11 269747 11 270514 12 271282 11 272049 11 272816 12 273583 12 274351 11 275118 12 275885 12 276653 11 277420 11 278189 10 278959 7 279728 5 280497 4 281267 1",
         "True"
        ],
        [
         "32",
         "0006c52e8.jpg",
         "146366 1 147132 4 147899 5 148666 7 149432 10 150199 12 150966 13 151732 16 152499 18 153265 20 154032 22 154799 24 155565 27 156332 28 157099 30 157865 33 158632 35 159398 37 160165 39 160932 41 161698 43 162465 45 163231 48 163998 50 164765 51 165531 54 166298 56 167065 57 167831 60 168598 62 169364 65 170131 66 170898 68 171664 71 172431 73 173198 74 173964 77 174731 77 175497 77 176264 77 177031 77 177797 77 178564 77 179331 77 180097 77 180864 77 181630 77 182397 77 183164 77 183930 77 184697 77 185464 77 186230 77 186997 77 187763 77 188530 77 189297 77 190063 77 190830 77 191597 76 192363 77 193130 77 193896 77 194663 77 195430 77 196196 77 196963 77 197729 77 198496 77 199263 77 200029 77 200796 77 201563 77 202329 77 203096 77 203862 77 204629 77 205396 77 206162 77 206929 77 207696 77 208462 77 209229 77 209995 77 210762 77 211529 77 212295 77 213062 77 213829 77 214595 77 215362 77 216128 77 216895 77 217662 77 218428 77 219195 77 219962 77 220728 77 221495 77 222261 77 223028 77 223795 77 224561 77 225328 77 226095 76 226861 77 227628 77 228394 77 229161 77 229928 77 230694 77 231461 77 232227 77 232994 77 233761 77 234527 77 235294 77 236061 77 236827 77 237594 77 238360 77 239127 77 239894 77 240660 77 241427 77 242194 77 242960 77 243727 77 244493 77 245260 77 246027 77 246793 77 247560 77 248327 77 249093 77 249860 77 250626 77 251393 77 252160 77 252926 77 253693 77 254460 77 255226 77 255993 77 256759 77 257526 77 258293 77 259059 77 259826 77 260593 76 261359 77 262126 77 262892 77 263659 77 264426 77 265192 77 265959 77 266725 77 267492 77 268259 77 269025 77 269792 77 270559 77 271325 77 272092 77 272858 77 273625 77 274392 77 275158 77 275925 77 276692 77 277458 77 278225 77 278991 77 279758 77 280525 77 281291 77 282058 77 282825 77 283591 77 284358 77 285127 74 285895 73 286664 71 287433 68 288202 66 288970 65 289739 62 290508 60 291276 58 292045 56 292814 54 293583 51 294351 50 295120 47 295889 45 296658 43 297426 41 298195 39 298964 37 299732 35 300501 33 301270 30 302039 28 302807 27 303576 24 304345 22 305113 21 305882 18 306651 16 307420 13 308188 12 308957 10 309726 7 310495 5 311263 4 312032 1",
         "True"
        ],
        [
         "33",
         "0007b8229.jpg",
         null,
         "False"
        ],
        [
         "34",
         "000805313.jpg",
         null,
         "False"
        ],
        [
         "35",
         "000811bb6.jpg",
         null,
         "False"
        ],
        [
         "36",
         "0008d6216.jpg",
         null,
         "False"
        ],
        [
         "37",
         "000913daf.jpg",
         null,
         "False"
        ],
        [
         "38",
         "000952d51.jpg",
         null,
         "False"
        ],
        [
         "39",
         "000969125.jpg",
         null,
         "False"
        ],
        [
         "40",
         "0009a46e1.jpg",
         null,
         "False"
        ],
        [
         "41",
         "000a4d4fd.jpg",
         null,
         "False"
        ],
        [
         "42",
         "000aed819.jpg",
         null,
         "False"
        ],
        [
         "43",
         "000baef0c.jpg",
         null,
         "False"
        ],
        [
         "44",
         "000bd9ac4.jpg",
         null,
         "False"
        ],
        [
         "45",
         "000c150b0.jpg",
         null,
         "False"
        ],
        [
         "46",
         "000c34352.jpg",
         null,
         "False"
        ],
        [
         "47",
         "000d26c17.jpg",
         null,
         "False"
        ],
        [
         "48",
         "000d42241.jpg",
         "369226 3 369992 5 370760 5 371528 5 372296 5 373065 4 373833 4 374601 2",
         "True"
        ],
        [
         "49",
         "000db3e62.jpg",
         null,
         "False"
        ]
       ],
       "shape": {
        "columns": 3,
        "rows": 231723
       }
      },
      "text/html": [
       "<div>\n",
       "<style scoped>\n",
       "    .dataframe tbody tr th:only-of-type {\n",
       "        vertical-align: middle;\n",
       "    }\n",
       "\n",
       "    .dataframe tbody tr th {\n",
       "        vertical-align: top;\n",
       "    }\n",
       "\n",
       "    .dataframe thead th {\n",
       "        text-align: right;\n",
       "    }\n",
       "</style>\n",
       "<table border=\"1\" class=\"dataframe\">\n",
       "  <thead>\n",
       "    <tr style=\"text-align: right;\">\n",
       "      <th></th>\n",
       "      <th>ImageId</th>\n",
       "      <th>EncodedPixels</th>\n",
       "      <th>HasShip</th>\n",
       "    </tr>\n",
       "  </thead>\n",
       "  <tbody>\n",
       "    <tr>\n",
       "      <th>0</th>\n",
       "      <td>00003e153.jpg</td>\n",
       "      <td>NaN</td>\n",
       "      <td>False</td>\n",
       "    </tr>\n",
       "    <tr>\n",
       "      <th>1</th>\n",
       "      <td>0001124c7.jpg</td>\n",
       "      <td>NaN</td>\n",
       "      <td>False</td>\n",
       "    </tr>\n",
       "    <tr>\n",
       "      <th>2</th>\n",
       "      <td>000155de5.jpg</td>\n",
       "      <td>264661 17 265429 33 266197 33 266965 33 267733...</td>\n",
       "      <td>True</td>\n",
       "    </tr>\n",
       "    <tr>\n",
       "      <th>3</th>\n",
       "      <td>000194a2d.jpg</td>\n",
       "      <td>360486 1 361252 4 362019 5 362785 8 363552 10 ...</td>\n",
       "      <td>True</td>\n",
       "    </tr>\n",
       "    <tr>\n",
       "      <th>4</th>\n",
       "      <td>000194a2d.jpg</td>\n",
       "      <td>51834 9 52602 9 53370 9 54138 9 54906 9 55674 ...</td>\n",
       "      <td>True</td>\n",
       "    </tr>\n",
       "    <tr>\n",
       "      <th>...</th>\n",
       "      <td>...</td>\n",
       "      <td>...</td>\n",
       "      <td>...</td>\n",
       "    </tr>\n",
       "    <tr>\n",
       "      <th>231718</th>\n",
       "      <td>fffedbb6b.jpg</td>\n",
       "      <td>NaN</td>\n",
       "      <td>False</td>\n",
       "    </tr>\n",
       "    <tr>\n",
       "      <th>231719</th>\n",
       "      <td>ffff2aa57.jpg</td>\n",
       "      <td>NaN</td>\n",
       "      <td>False</td>\n",
       "    </tr>\n",
       "    <tr>\n",
       "      <th>231720</th>\n",
       "      <td>ffff6e525.jpg</td>\n",
       "      <td>NaN</td>\n",
       "      <td>False</td>\n",
       "    </tr>\n",
       "    <tr>\n",
       "      <th>231721</th>\n",
       "      <td>ffffc50b4.jpg</td>\n",
       "      <td>NaN</td>\n",
       "      <td>False</td>\n",
       "    </tr>\n",
       "    <tr>\n",
       "      <th>231722</th>\n",
       "      <td>ffffe97f3.jpg</td>\n",
       "      <td>NaN</td>\n",
       "      <td>False</td>\n",
       "    </tr>\n",
       "  </tbody>\n",
       "</table>\n",
       "<p>231723 rows × 3 columns</p>\n",
       "</div>"
      ],
      "text/plain": [
       "              ImageId                                      EncodedPixels  \\\n",
       "0       00003e153.jpg                                                NaN   \n",
       "1       0001124c7.jpg                                                NaN   \n",
       "2       000155de5.jpg  264661 17 265429 33 266197 33 266965 33 267733...   \n",
       "3       000194a2d.jpg  360486 1 361252 4 362019 5 362785 8 363552 10 ...   \n",
       "4       000194a2d.jpg  51834 9 52602 9 53370 9 54138 9 54906 9 55674 ...   \n",
       "...               ...                                                ...   \n",
       "231718  fffedbb6b.jpg                                                NaN   \n",
       "231719  ffff2aa57.jpg                                                NaN   \n",
       "231720  ffff6e525.jpg                                                NaN   \n",
       "231721  ffffc50b4.jpg                                                NaN   \n",
       "231722  ffffe97f3.jpg                                                NaN   \n",
       "\n",
       "        HasShip  \n",
       "0         False  \n",
       "1         False  \n",
       "2          True  \n",
       "3          True  \n",
       "4          True  \n",
       "...         ...  \n",
       "231718    False  \n",
       "231719    False  \n",
       "231720    False  \n",
       "231721    False  \n",
       "231722    False  \n",
       "\n",
       "[231723 rows x 3 columns]"
      ]
     },
     "execution_count": 9,
     "metadata": {},
     "output_type": "execute_result"
    }
   ],
   "source": [
    "import pandas as pd\n",
    "\n",
    "\n",
    "df = pd.read_csv(\"airbus-ship-detection/train_ship_segmentations_v2.csv\")\n",
    "\n",
    "# Ship column\n",
    "df['HasShip'] = df['EncodedPixels'].notnull()\n",
    "\n",
    "# Ship count per image\n",
    "ship_counts = df.groupby('ImageId')['HasShip'].sum().reset_index()\n",
    "ship_counts.columns = ['ImageId', 'ShipCount']\n",
    "\n",
    "# Step 4: Count how many images have 0, 1, 2, 3, ... ships\n",
    "ship_distribution = ship_counts['ShipCount'].value_counts().sort_index()\n",
    "\n",
    "# Optional: Display the result\n",
    "print(\"Ship Count Distribution (Number of ships per image):\")\n",
    "for ship_num, image_count in ship_distribution.items():\n",
    "    print(f\"{int(ship_num)} ships: {image_count} images\")\n",
    "\n",
    "# Percentage of images with ships unique\n",
    "ship_counts['HasShip'] = ship_counts['ShipCount'] > 0\n",
    "percentage_with_ships = ship_counts['HasShip'].mean() * 100\n",
    "print(f\"Percentage of images with ships: {percentage_with_ships:.2f}%\")\n",
    "\n",
    "df"
   ]
  },
  {
   "cell_type": "code",
   "execution_count": 10,
   "id": "9fe90945",
   "metadata": {},
   "outputs": [],
   "source": [
    "import numpy as np\n",
    "\n",
    "def rle_decode(mask_rle, shape=(768, 768)):\n",
    "    '''\n",
    "    Converts RLE string to binary mask (numpy 2D array).\n",
    "    '''\n",
    "    if pd.isnull(mask_rle):\n",
    "        return np.zeros(shape, dtype=np.uint8)\n",
    "\n",
    "    s = list(map(int, mask_rle.split()))\n",
    "    starts, lengths = s[::2], s[1::2]\n",
    "\n",
    "    starts = np.array(starts) - 1  # switch to 0-based indexing\n",
    "    ends = starts + lengths\n",
    "    img = np.zeros(shape[0] * shape[1], dtype=np.uint8)\n",
    "\n",
    "    for lo, hi in zip(starts, ends):\n",
    "        img[lo:hi] = 1\n",
    "\n",
    "    return img.reshape((shape[1], shape[0])).T  # reshape & transpose for (H, W)\n",
    "\n",
    "def get_combined_mask(image_id, df, shape=(768, 768)):\n",
    "    \"\"\"\n",
    "    Returns a binary mask for an image with possibly multiple ships.\n",
    "    - image_id: name of the image (e.g., '00003e153.jpg')\n",
    "    - df: the full DataFrame from the CSV\n",
    "    - shape: expected shape of the output mask (default 768x768)\n",
    "    \"\"\"\n",
    "    # Get all RLEs for the image\n",
    "    rles = df[df[\"ImageId\"] == image_id][\"EncodedPixels\"].dropna().values\n",
    "    \n",
    "    # Start with empty mask\n",
    "    final_mask = np.zeros(shape, dtype=np.uint8)\n",
    "    \n",
    "    for rle in rles:\n",
    "        final_mask += rle_decode(rle, shape=shape)\n",
    "    \n",
    "    # Make sure the mask is binary (in case ships overlap)\n",
    "    final_mask = np.clip(final_mask, 0, 1)\n",
    "    \n",
    "    return final_mask"
   ]
  },
  {
   "cell_type": "code",
   "execution_count": 11,
   "id": "31d003ba",
   "metadata": {},
   "outputs": [
    {
     "data": {
      "image/png": "[encoded data removed]",
      "text/plain": [
       "<Figure size 1000x500 with 2 Axes>"
      ]
     },
     "metadata": {},
     "output_type": "display_data"
    }
   ],
   "source": [
    "# show the image ./airbus-ship-detection/train_v2/000194a2d.jpg\n",
    "import matplotlib.pyplot as plt\n",
    "from PIL import Image\n",
    "\n",
    "def show_image_with_mask(image_id, df, shape=(768, 768)):\n",
    "    \"\"\"\n",
    "    Displays the image and its corresponding mask.\n",
    "    - image_id: name of the image (e.g., '00003e153.jpg')\n",
    "    - df: the full DataFrame from the CSV\n",
    "    - shape: expected shape of the mask (default 768x768)\n",
    "    \"\"\"\n",
    "    # Load the image\n",
    "    img_path = os.path.join(\"./airbus-ship-detection/train_v2_resized\", image_id)\n",
    "    img = Image.open(img_path).convert(\"RGB\")\n",
    "    \n",
    "    # Load the mask image (as .png)\n",
    "    mask_path = os.path.join(\"./airbus-ship-detection/train_masks_resized\", image_id.replace('.jpg', '.png'))\n",
    "    mask = Image.open(mask_path)\n",
    "    \n",
    "    # Display the image and mask\n",
    "    plt.figure(figsize=(10, 5))\n",
    "    \n",
    "    plt.subplot(1, 2, 1)\n",
    "    plt.imshow(img)\n",
    "    plt.title(\"Image\")\n",
    "    \n",
    "    plt.subplot(1, 2, 2)\n",
    "    plt.imshow(mask, cmap='gray')\n",
    "    plt.title(\"Mask\")\n",
    "    \n",
    "    plt.show()\n",
    "\n",
    "# Example usage\n",
    "show_image_with_mask('ad5092ca2.jpg', df)"
   ]
  },
  {
   "cell_type": "markdown",
   "id": "47f4af19",
   "metadata": {},
   "source": [
    "# Datasets"
   ]
  },
  {
   "cell_type": "code",
   "execution_count": 10,
   "id": "089ffba2",
   "metadata": {},
   "outputs": [],
   "source": [
    "class ShipDataset(Dataset):\n",
    "    def __init__(self, dataframe, image_folder, device='cpu'):\n",
    "        self.df = dataframe\n",
    "        self.image_folder = image_folder\n",
    "        self.device = device\n",
    "\n",
    "        # Unique image names and RLE groupings\n",
    "        self.image_ids = self.df['ImageId'].unique()\n",
    "        self.masks = self.df.groupby('ImageId')['EncodedPixels'].apply(list)\n",
    "\n",
    "        # Minimal preprocessing\n",
    "        self.image_transform = v2.Compose([\n",
    "            v2.Resize((256, 256)),\n",
    "            v2.ToImage(),               # Converts PIL/numpy to torch.Tensor\n",
    "            v2.ToDtype(torch.float32, scale=True),  # Scales image to [0,1]\n",
    "            v2.Normalize(mean=[0.485, 0.456, 0.406],\n",
    "                         std=[0.229, 0.224, 0.225])\n",
    "        ]).to(self.device)\n",
    "\n",
    "        self.mask_transform = v2.Compose([\n",
    "            v2.Resize((256, 256)),\n",
    "            v2.ToImage(),               # Converts PIL/numpy to torch.Tensor\n",
    "            v2.ToDtype(torch.float32, scale=True)  # Scales image to [0,1]\n",
    "        ]).to(self.device)\n",
    "\n",
    "    def __len__(self):\n",
    "        return len(self.image_ids)\n",
    "\n",
    "    def __getitem__(self, idx):\n",
    "        image_id = self.image_ids[idx]\n",
    "        image_path = os.path.join(self.image_folder, image_id)\n",
    "        mask_path = os.path.join(\"./airbus-ship-detection/train_masks_resized\", image_id.replace('.jpg', '.png'))\n",
    "\n",
    "        # Load image\n",
    "        image = Image.open(image_path).convert('RGB')\n",
    "\n",
    "        # Load mask\n",
    "        if os.path.exists(mask_path):\n",
    "            mask = Image.open(mask_path).convert('L')\n",
    "        else:\n",
    "            # If mask doesn't exist, create an empty mask\n",
    "            mask = Image.new('L', (768, 768), 0)\n",
    "        \n",
    "        # Apply transforms\n",
    "        image = self.image_transform(image)\n",
    "        mask = self.mask_transform(mask)\n",
    "\n",
    "        return image, mask\n"
   ]
  },
  {
   "cell_type": "code",
   "execution_count": 11,
   "id": "ac7eec8c",
   "metadata": {},
   "outputs": [
    {
     "name": "stdout",
     "output_type": "stream",
     "text": [
      "42556\n"
     ]
    }
   ],
   "source": [
    "# Get all ship image IDs\n",
    "ship_ids = df[df['HasShip']]['ImageId'].drop_duplicates()\n",
    "print(len(ship_ids))\n",
    "\n",
    "train_df = df[df['ImageId'].isin(ship_ids)].sample(10000, random_state=42).reset_index(drop=True)"
   ]
  },
  {
   "cell_type": "code",
   "execution_count": 12,
   "id": "c541eb1d",
   "metadata": {},
   "outputs": [
    {
     "name": "stdout",
     "output_type": "stream",
     "text": [
      "Shapes:  torch.Size([3, 256, 256]) torch.Size([1, 256, 256])\n"
     ]
    },
    {
     "data": {
      "image/png": "[encoded data removed]",
      "text/plain": [
       "<Figure size 1000x500 with 2 Axes>"
      ]
     },
     "metadata": {},
     "output_type": "display_data"
    }
   ],
   "source": [
    "# train val split\n",
    "train_df, val_df = train_test_split(train_df, test_size=0.2, random_state=42)\n",
    "\n",
    "train_dataset = ShipDataset(train_df, \"./airbus-ship-detection/train_v2_resized\")\n",
    "image, mask = train_dataset[0]\n",
    "print(\"Shapes: \", image.shape, mask.shape)\n",
    "\n",
    "show_image_with_mask(train_df['ImageId'].iloc[90], df)\n",
    "val_dataset = ShipDataset(val_df, \"./airbus-ship-detection/train_v2_resized\")\n",
    "\n",
    "train_dataloader = torch.utils.data.DataLoader(train_dataset, batch_size=4, shuffle=True, num_workers=0)\n",
    "val_dataloader = torch.utils.data.DataLoader(val_dataset, batch_size=4, shuffle=False, num_workers=0)"
   ]
  },
  {
   "cell_type": "code",
   "execution_count": 13,
   "id": "dfca4624",
   "metadata": {},
   "outputs": [],
   "source": [
    "import torch\n",
    "import torch.nn as nn\n",
    "import torch.nn.functional as F\n",
    "\n",
    "class ConvBlock(nn.Module):\n",
    "    def __init__(self, in_ch, out_ch):\n",
    "        super().__init__()\n",
    "        self.conv = nn.Sequential(\n",
    "            nn.Conv2d(in_ch, out_ch, kernel_size=3, padding=1),\n",
    "            nn.BatchNorm2d(out_ch),\n",
    "            nn.ReLU(inplace=True),\n",
    "            nn.Conv2d(out_ch, out_ch, kernel_size=3, padding=1),\n",
    "            nn.BatchNorm2d(out_ch),\n",
    "            nn.ReLU(inplace=True),\n",
    "        )\n",
    "\n",
    "    def forward(self, x):\n",
    "        return self.conv(x)\n",
    "\n",
    "class BetterSegNet(nn.Module):\n",
    "    def __init__(self):\n",
    "        super().__init__()\n",
    "\n",
    "        # Encoder\n",
    "        self.enc1 = ConvBlock(3, 64)\n",
    "        self.pool1 = nn.MaxPool2d(2)\n",
    "        self.enc2 = ConvBlock(64, 128)\n",
    "        self.pool2 = nn.MaxPool2d(2)\n",
    "        self.enc3 = ConvBlock(128, 256)\n",
    "        self.pool3 = nn.MaxPool2d(2)\n",
    "\n",
    "        # Bottleneck\n",
    "        self.bottleneck = ConvBlock(256, 512)\n",
    "\n",
    "        # Decoder\n",
    "        self.up3 = nn.ConvTranspose2d(512, 256, 2, stride=2)\n",
    "        self.dec3 = ConvBlock(512, 256)\n",
    "        self.up2 = nn.ConvTranspose2d(256, 128, 2, stride=2)\n",
    "        self.dec2 = ConvBlock(256, 128)\n",
    "        self.up1 = nn.ConvTranspose2d(128, 64, 2, stride=2)\n",
    "        self.dec1 = ConvBlock(128, 64)\n",
    "\n",
    "        # Output layer\n",
    "        self.final = nn.Conv2d(64, 1, kernel_size=1)\n",
    "\n",
    "    def forward(self, x):\n",
    "        # Encoder\n",
    "        x1 = self.enc1(x)\n",
    "        x2 = self.enc2(self.pool1(x1))\n",
    "        x3 = self.enc3(self.pool2(x2))\n",
    "\n",
    "        # Bottleneck\n",
    "        x4 = self.bottleneck(self.pool3(x3))\n",
    "\n",
    "        # Decoder with skip connections\n",
    "        x = self.up3(x4)\n",
    "        x = self.dec3(torch.cat([x, x3], dim=1))\n",
    "        x = self.up2(x)\n",
    "        x = self.dec2(torch.cat([x, x2], dim=1))\n",
    "        x = self.up1(x)\n",
    "        x = self.dec1(torch.cat([x, x1], dim=1))\n",
    "\n",
    "        # Output\n",
    "        return self.final(x)  # raw logits\n",
    "\n",
    "\n",
    "model = BetterSegNet().to(device)"
   ]
  },
  {
   "cell_type": "code",
   "execution_count": 16,
   "id": "f03a6a60",
   "metadata": {},
   "outputs": [],
   "source": [
    "def dice_score(preds, targets, threshold=0.5, epsilon=1e-6):\n",
    "    preds = torch.sigmoid(preds)\n",
    "    preds = (preds > threshold).float()\n",
    "    intersection = (preds * targets).sum(dim=(1, 2, 3))\n",
    "    union = preds.sum(dim=(1, 2, 3)) + targets.sum(dim=(1, 2, 3))\n",
    "    dice = (2. * intersection + epsilon) / (union + epsilon)\n",
    "    return dice.mean().item()\n"
   ]
  },
  {
   "cell_type": "code",
   "execution_count": null,
   "id": "94195dce",
   "metadata": {},
   "outputs": [],
   "source": [
    "def dice_loss(pred, target, smooth=1):\n",
    "    pred = torch.sigmoid(pred)\n",
    "    intersection = (pred * target).sum()\n",
    "    return 1 - (2. * intersection + smooth) / (pred.sum() + target.sum() + smooth)\n",
    "\n",
    "def focal_loss(pred, target, alpha=0.8, gamma=2):\n",
    "    pred = torch.sigmoid(pred)\n",
    "    bce = F.binary_cross_entropy(pred, target, reduction='none')\n",
    "    pt = torch.exp(-bce)\n",
    "    return (alpha * (1 - pt) ** gamma * bce).mean()\n",
    "\n",
    "def combined_loss(pred, target):\n",
    "    return 0.5 * dice_loss(pred, target) + 0.5 * focal_loss(pred, target)\n"
   ]
  },
  {
   "cell_type": "code",
   "execution_count": null,
   "id": "f112a674",
   "metadata": {},
   "outputs": [
    {
     "name": "stderr",
     "output_type": "stream",
     "text": [
      "Epoch 1/10: 100%|██████████| 1777/1777 [04:26<00:00,  6.66it/s]\n"
     ]
    },
    {
     "name": "stdout",
     "output_type": "stream",
     "text": [
      "Epoch 01 | Train Loss: 0.0338, Dice: 0.1669 | Val Loss: 0.0179, Dice: 0.1912\n"
     ]
    },
    {
     "name": "stderr",
     "output_type": "stream",
     "text": [
      "Epoch 2/10: 100%|██████████| 1777/1777 [04:34<00:00,  6.46it/s]\n"
     ]
    },
    {
     "name": "stdout",
     "output_type": "stream",
     "text": [
      "Epoch 02 | Train Loss: 0.0162, Dice: 0.2948 | Val Loss: 0.0200, Dice: 0.3375\n"
     ]
    },
    {
     "name": "stderr",
     "output_type": "stream",
     "text": [
      "Epoch 3/10: 100%|██████████| 1777/1777 [04:40<00:00,  6.34it/s]\n"
     ]
    },
    {
     "name": "stdout",
     "output_type": "stream",
     "text": [
      "Epoch 03 | Train Loss: 0.0148, Dice: 0.3333 | Val Loss: 0.0166, Dice: 0.0509\n"
     ]
    },
    {
     "name": "stderr",
     "output_type": "stream",
     "text": [
      "Epoch 4/10: 100%|██████████| 1777/1777 [04:38<00:00,  6.39it/s]\n"
     ]
    },
    {
     "name": "stdout",
     "output_type": "stream",
     "text": [
      "Epoch 04 | Train Loss: 0.0140, Dice: 0.3682 | Val Loss: 0.0158, Dice: 0.2052\n"
     ]
    },
    {
     "name": "stderr",
     "output_type": "stream",
     "text": [
      "Epoch 5/10: 100%|██████████| 1777/1777 [04:25<00:00,  6.69it/s]\n"
     ]
    },
    {
     "name": "stdout",
     "output_type": "stream",
     "text": [
      "Epoch 05 | Train Loss: 0.0131, Dice: 0.3942 | Val Loss: 0.0137, Dice: 0.3853\n"
     ]
    },
    {
     "name": "stderr",
     "output_type": "stream",
     "text": [
      "Epoch 6/10: 100%|██████████| 1777/1777 [04:35<00:00,  6.45it/s]\n"
     ]
    },
    {
     "name": "stdout",
     "output_type": "stream",
     "text": [
      "Epoch 06 | Train Loss: 0.0124, Dice: 0.4168 | Val Loss: 0.0139, Dice: 0.3709\n"
     ]
    },
    {
     "name": "stderr",
     "output_type": "stream",
     "text": [
      "Epoch 7/10: 100%|██████████| 1777/1777 [04:30<00:00,  6.56it/s]\n"
     ]
    },
    {
     "name": "stdout",
     "output_type": "stream",
     "text": [
      "Epoch 07 | Train Loss: 0.0119, Dice: 0.4345 | Val Loss: 0.0139, Dice: 0.3903\n"
     ]
    },
    {
     "name": "stderr",
     "output_type": "stream",
     "text": [
      "Epoch 8/10: 100%|██████████| 1777/1777 [04:27<00:00,  6.64it/s]\n"
     ]
    },
    {
     "name": "stdout",
     "output_type": "stream",
     "text": [
      "Epoch 08 | Train Loss: 0.0112, Dice: 0.4572 | Val Loss: 0.0122, Dice: 0.3047\n"
     ]
    },
    {
     "name": "stderr",
     "output_type": "stream",
     "text": [
      "Epoch 9/10: 100%|██████████| 1777/1777 [04:29<00:00,  6.59it/s]\n"
     ]
    },
    {
     "name": "stdout",
     "output_type": "stream",
     "text": [
      "Epoch 09 | Train Loss: 0.0105, Dice: 0.4687 | Val Loss: 0.0113, Dice: 0.3937\n"
     ]
    },
    {
     "name": "stderr",
     "output_type": "stream",
     "text": [
      "Epoch 10/10:  32%|███▏      | 560/1777 [01:26<03:08,  6.47it/s]\n"
     ]
    },
    {
     "ename": "KeyboardInterrupt",
     "evalue": "",
     "output_type": "error",
     "traceback": [
      "\u001b[31m---------------------------------------------------------------------------\u001b[39m",
      "\u001b[31mKeyboardInterrupt\u001b[39m                         Traceback (most recent call last)",
      "\u001b[36mCell\u001b[39m\u001b[36m \u001b[39m\u001b[32mIn[17]\u001b[39m\u001b[32m, line 37\u001b[39m\n\u001b[32m     31\u001b[39m                 val_dice += dice_score(preds, masks)\n\u001b[32m     33\u001b[39m         \u001b[38;5;28mprint\u001b[39m(\u001b[33mf\u001b[39m\u001b[33m\"\u001b[39m\u001b[33mEpoch \u001b[39m\u001b[38;5;132;01m{\u001b[39;00mepoch\u001b[38;5;132;01m:\u001b[39;00m\u001b[33m02\u001b[39m\u001b[38;5;132;01m}\u001b[39;00m\u001b[33m | \u001b[39m\u001b[33m\"\u001b[39m\n\u001b[32m     34\u001b[39m               \u001b[33mf\u001b[39m\u001b[33m\"\u001b[39m\u001b[33mTrain Loss: \u001b[39m\u001b[38;5;132;01m{\u001b[39;00mtrain_loss/\u001b[38;5;28mlen\u001b[39m(train_loader)\u001b[38;5;132;01m:\u001b[39;00m\u001b[33m.4f\u001b[39m\u001b[38;5;132;01m}\u001b[39;00m\u001b[33m, Dice: \u001b[39m\u001b[38;5;132;01m{\u001b[39;00mtrain_dice/\u001b[38;5;28mlen\u001b[39m(train_loader)\u001b[38;5;132;01m:\u001b[39;00m\u001b[33m.4f\u001b[39m\u001b[38;5;132;01m}\u001b[39;00m\u001b[33m | \u001b[39m\u001b[33m\"\u001b[39m\n\u001b[32m     35\u001b[39m               \u001b[33mf\u001b[39m\u001b[33m\"\u001b[39m\u001b[33mVal Loss: \u001b[39m\u001b[38;5;132;01m{\u001b[39;00mval_loss/\u001b[38;5;28mlen\u001b[39m(val_loader)\u001b[38;5;132;01m:\u001b[39;00m\u001b[33m.4f\u001b[39m\u001b[38;5;132;01m}\u001b[39;00m\u001b[33m, Dice: \u001b[39m\u001b[38;5;132;01m{\u001b[39;00mval_dice/\u001b[38;5;28mlen\u001b[39m(val_loader)\u001b[38;5;132;01m:\u001b[39;00m\u001b[33m.4f\u001b[39m\u001b[38;5;132;01m}\u001b[39;00m\u001b[33m\"\u001b[39m)\n\u001b[32m---> \u001b[39m\u001b[32m37\u001b[39m \u001b[43mtrain_model\u001b[49m\u001b[43m(\u001b[49m\u001b[43mmodel\u001b[49m\u001b[43m,\u001b[49m\u001b[43m \u001b[49m\u001b[43mtrain_dataloader\u001b[49m\u001b[43m,\u001b[49m\u001b[43m \u001b[49m\u001b[43mval_dataloader\u001b[49m\u001b[43m,\u001b[49m\u001b[43m \u001b[49m\u001b[43mdevice\u001b[49m\u001b[43m,\u001b[49m\u001b[43m \u001b[49m\u001b[43mepochs\u001b[49m\u001b[43m=\u001b[49m\u001b[32;43m10\u001b[39;49m\u001b[43m,\u001b[49m\u001b[43m \u001b[49m\u001b[43mlr\u001b[49m\u001b[43m=\u001b[49m\u001b[32;43m1e-3\u001b[39;49m\u001b[43m,\u001b[49m\u001b[43m \u001b[49m\u001b[43mweight_decay\u001b[49m\u001b[43m=\u001b[49m\u001b[32;43m1e-4\u001b[39;49m\u001b[43m)\u001b[49m\n",
      "\u001b[36mCell\u001b[39m\u001b[36m \u001b[39m\u001b[32mIn[17]\u001b[39m\u001b[32m, line 20\u001b[39m, in \u001b[36mtrain_model\u001b[39m\u001b[34m(model, train_loader, val_loader, device, epochs, lr, weight_decay)\u001b[39m\n\u001b[32m     17\u001b[39m     loss.backward()\n\u001b[32m     18\u001b[39m     optimizer.step()\n\u001b[32m---> \u001b[39m\u001b[32m20\u001b[39m     train_loss += \u001b[43mloss\u001b[49m\u001b[43m.\u001b[49m\u001b[43mitem\u001b[49m\u001b[43m(\u001b[49m\u001b[43m)\u001b[49m\n\u001b[32m     21\u001b[39m     train_dice += dice_score(preds, masks)\n\u001b[32m     23\u001b[39m \u001b[38;5;66;03m# Validation\u001b[39;00m\n",
      "\u001b[31mKeyboardInterrupt\u001b[39m: "
     ]
    }
   ],
   "source": [
    "def train_model(model, train_loader, val_loader, device, epochs=10, lr=1e-3, weight_decay=1e-4):\n",
    "    model.to(device)\n",
    "    optimizer = torch.optim.AdamW(model.parameters(), lr=lr, weight_decay=weight_decay)\n",
    "\n",
    "    for epoch in range(1, epochs + 1):\n",
    "        model.train()\n",
    "        train_loss, train_dice = 0.0, 0.0\n",
    "\n",
    "        loop = tqdm(train_loader, desc=f\"Epoch {epoch}/{epochs}\")\n",
    "        for images, masks in loop:\n",
    "            images, masks = images.to(device), masks.to(device)\n",
    "            preds = model(images)  # keep shape [batch, 1, 256, 256]\n",
    "\n",
    "            loss = combined_loss(preds, masks)\n",
    "            optimizer.zero_grad()\n",
    "            loss.backward()\n",
    "            optimizer.step()\n",
    "\n",
    "            train_loss += loss.item()\n",
    "            train_dice += dice_score(preds, masks)\n",
    "\n",
    "        # Validation\n",
    "        model.eval()\n",
    "        val_loss, val_dice = 0.0, 0.0\n",
    "        with torch.no_grad():\n",
    "            for images, masks in val_dataloader:\n",
    "                images, masks = images.to(device), masks.to(device)\n",
    "                preds = model(images)  # keep shape [batch, 1, 256, 256]\n",
    "                val_loss += combined_loss(preds, masks).item()\n",
    "                val_dice += dice_score(preds, masks)\n",
    "\n",
    "        print(f\"Epoch {epoch:02} | \"\n",
    "              f\"Train Loss: {train_loss/len(train_loader):.4f}, Dice: {train_dice/len(train_loader):.4f} | \"\n",
    "              f\"Val Loss: {val_loss/len(val_loader):.4f}, Dice: {val_dice/len(val_loader):.4f}\")\n",
    "\n",
    "train_model(model, train_dataloader, val_dataloader, device, epochs=10, lr=1e-3, weight_decay=1e-4)"
   ]
  },
  {
   "cell_type": "code",
   "execution_count": 14,
   "id": "b8f2608a",
   "metadata": {},
   "outputs": [
    {
     "name": "stdout",
     "output_type": "stream",
     "text": [
      "Inference time for 1 image: 0.4388 seconds\n"
     ]
    }
   ],
   "source": [
    "import time\n",
    "\n",
    "model.eval()\n",
    "x = torch.randn(1, 3, 256, 256).to(device)\n",
    "\n",
    "start = time.time()\n",
    "with torch.no_grad():\n",
    "    y = model(x)\n",
    "end = time.time()\n",
    "\n",
    "print(f\"Inference time for 1 image: {end - start:.4f} seconds\")\n"
   ]
  },
  {
   "cell_type": "code",
   "execution_count": null,
   "id": "21b24844",
   "metadata": {},
   "outputs": [],
   "source": []
  }
 ],
 "metadata": {
  "kernelspec": {
   "display_name": "shipdetection",
   "language": "python",
   "name": "python3"
  },
  "language_info": {
   "codemirror_mode": {
    "name": "ipython",
    "version": 3
   },
   "file_extension": ".py",
   "mimetype": "text/x-python",
   "name": "python",
   "nbconvert_exporter": "python",
   "pygments_lexer": "ipython3",
   "version": "3.13.3"
  }
 },
 "nbformat": 4,
 "nbformat_minor": 5
}
